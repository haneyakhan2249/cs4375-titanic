{
 "cells": [
  {
   "cell_type": "code",
   "execution_count": null,
   "metadata": {},
   "outputs": [],
   "source": [
    "from os import sys\n",
    "import pandas as pd\n",
    "import json\n",
    "\n",
    "from sklearn import preprocessing\n",
    "from sklearn.preprocessing import StandardScaler\n",
    "\n",
    "from sklearn.model_selection import train_test_split\n",
    "from sklearn.model_selection import GridSearchCV\n",
    "from sklearn.metrics import f1_score\n",
    "from sklearn.metrics import precision_score\n",
    "from sklearn.metrics import accuracy_score\n",
    "from sklearn.metrics import recall_score\n",
    "\n",
    "from sklearn.metrics import roc_curve, auc\n",
    "import matplotlib.pyplot as plt\n",
    "%matplotlib inline\n",
    "import random\n",
    "\n",
    "from sklearn.tree import DecisionTreeClassifier"
   ]
  },
  {
   "cell_type": "code",
   "execution_count": null,
   "metadata": {},
   "outputs": [],
   "source": [
    "########### READ DATA ##############\n",
    "\n",
    "# data = sys.argv[1]\n",
    "data = \"./titanic_data/train.csv\"\n",
    "df = pd.read_csv(data, header=0)\n",
    "# print(df)"
   ]
  },
  {
   "cell_type": "code",
   "execution_count": null,
   "metadata": {},
   "outputs": [],
   "source": [
    "########### CLEAN DATA ##############\n",
    "\n",
    "# parse name\n",
    "# extract last name and title\n",
    "parse = df['Name'].str.split(',')\n",
    "df['LastName'] = parse.str[0]\n",
    "le = preprocessing.LabelEncoder()\n",
    "le.fit(df['LastName'])\n",
    "df['LastName'] = le.transform(df['LastName'])\n",
    "df['Title'] = parse.str[1].str.split('.').str[0]\n",
    "le = preprocessing.LabelEncoder()\n",
    "le.fit(df['Title'])\n",
    "df['Title'] = le.transform(df['Title'])\n",
    "\n",
    "# convert sex to number\n",
    "le = preprocessing.LabelEncoder()\n",
    "le.fit(df['Sex'])\n",
    "df['Sex'] = le.transform(df['Sex'])\n",
    "\n",
    "# group age into child, adult, senior\n",
    "# fill age missing values\n",
    "df['Age'] = df['Age'].fillna(df['Age'].median())\n",
    "# group by age\n",
    "df['AgeGroup'] = df['Age'].apply(lambda x: 0 if x<=18 else (1 if x<=54 else 2))\n",
    "\n",
    "# ticket is useless\n",
    "\n",
    "# cabin is useless\n",
    "\n",
    "# det. total family size\n",
    "# combine parch and sibsp\n",
    "df['FamSize'] = df['Parch'] + df['SibSp']\n",
    "\n",
    "# fill emabrked missing values\n",
    "# convert embarked to number\n",
    "df['Embarked'] = df['Embarked'].fillna('S')\n",
    "le = preprocessing.LabelEncoder()\n",
    "le.fit(df['Embarked'])\n",
    "df['Embarked'] = le.transform(df['Embarked'])"
   ]
  },
  {
   "cell_type": "code",
   "execution_count": null,
   "metadata": {},
   "outputs": [],
   "source": [
    "########### SPLIT DATA ##############\n",
    "\n",
    "X = df[['Pclass', 'LastName', 'Title', 'Sex','AgeGroup','FamSize','Fare','Embarked']].values\n",
    "y = df['Survived'].values\n",
    "\n",
    "X_train, X_test, y_train, y_test = train_test_split(X, y, test_size=.1)"
   ]
  },
  {
   "cell_type": "code",
   "execution_count": null,
   "metadata": {},
   "outputs": [],
   "source": [
    "############# PARAMETER TUNING & TRAIN MODEL ###############\n",
    "\n",
    "tuned_parameters_dt = [{'criterion': ['gini', 'entropy'], 'splitter': ['best', 'random'], \n",
    "                        'min_samples_split': [2,3,4,5,6,7,8], 'max_features': [1, 2, 3, 4, 5, 6, 7, 8]}]\n",
    "# clf = GridSearchCV(DecisionTreeClassifier(), tuned_parameters_dt, scoring='accuracy', cv=5)\n",
    "# clf.fit(X_train, y_train)\n",
    "# best = json.dumps(clf.best_params_)\n",
    "\n",
    "clf = DecisionTreeClassifier(criterion='gini', splitter='random', min_samples_split=8, max_features=8)\n",
    "clf.fit(X_train, y_train)\n",
    "\n",
    "\n",
    "############# PERFORMANCE EVALUATION ###############\n",
    "\n",
    "y_true, y_pred = y_test, clf.predict(X_test)\n",
    "avg_prec = round(precision_score(y_true, y_pred, average='macro'), 2)\n",
    "avg_recall = round(recall_score(y_true, y_pred, average='macro'), 2)\n",
    "avg_f1 = round(f1_score(y_true, y_pred, average='macro'), 2)\n",
    "acc_score = round(accuracy_score(y_true, y_pred), 2)\n",
    "\n",
    "false_positive_rate, true_positive_rate, thresholds = roc_curve(y_true, y_pred)\n",
    "roc_auc = auc(false_positive_rate, true_positive_rate)\n",
    "\n",
    "print(\"\\n\\n\")\n",
    "print(\"DECISION TREE\")\n",
    "print(\"--------------\")\n",
    "# print(\"Best Params:\\t\" + best)\n",
    "print(\"Avg F1_Score:\\t\"+ str(avg_f1))\n",
    "print(\"Accuracy Score:\\t\"+ str(acc_score))\n",
    "print(\"\\n\\n\")\n",
    "\n",
    "plt.title('Decision Tree')\n",
    "plt.plot(false_positive_rate, true_positive_rate,\n",
    "label='AUC = %0.3f'% roc_auc)\n",
    "plt.legend(loc='lower right')\n",
    "plt.plot([0,1],[0,1])\n",
    "plt.ylabel('TPR')\n",
    "plt.xlabel('FPR')\n",
    "plt.show();"
   ]
  },
  {
   "cell_type": "code",
   "execution_count": null,
   "metadata": {},
   "outputs": [],
   "source": []
  },
  {
   "cell_type": "code",
   "execution_count": null,
   "metadata": {},
   "outputs": [],
   "source": []
  }
 ],
 "metadata": {
  "kernelspec": {
   "display_name": "Python 3",
   "language": "python",
   "name": "python3"
  },
  "language_info": {
   "codemirror_mode": {
    "name": "ipython",
    "version": 3
   },
   "file_extension": ".py",
   "mimetype": "text/x-python",
   "name": "python",
   "nbconvert_exporter": "python",
   "pygments_lexer": "ipython3",
   "version": "3.6.5"
  }
 },
 "nbformat": 4,
 "nbformat_minor": 2
}
